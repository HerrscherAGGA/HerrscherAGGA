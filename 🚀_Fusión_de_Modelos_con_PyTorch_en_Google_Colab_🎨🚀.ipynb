{
  "nbformat": 4,
  "nbformat_minor": 0,
  "metadata": {
    "colab": {
      "provenance": [],
      "include_colab_link": true
    },
    "kernelspec": {
      "name": "python3",
      "display_name": "Python 3"
    },
    "language_info": {
      "name": "python"
    }
  },
  "cells": [
    {
      "cell_type": "markdown",
      "metadata": {
        "id": "view-in-github",
        "colab_type": "text"
      },
      "source": [
        "<a href=\"https://colab.research.google.com/github/HerrscherAGGA/HerrscherAGGA/blob/Test_ON_GOOGLE_COLAB!/%F0%9F%9A%80_Fusi%C3%B3n_de_Modelos_con_PyTorch_en_Google_Colab_%F0%9F%8E%A8%F0%9F%9A%80.ipynb\" target=\"_parent\"><img src=\"https://colab.research.google.com/assets/colab-badge.svg\" alt=\"Open In Colab\"/></a>"
      ]
    },
    {
      "cell_type": "code",
      "source": [
        "# @title # 🛠 Paso 1: Instalar Dependencias\n",
        "#@markdown Ejecuta estos comandos en Google Colab para preparar el entorno.\n",
        "# 1️⃣ Clonar el repositorio de Stable Diffusion WebUI (opcional)\n",
        "%cd /content/\n",
        "!git clone https://github.com/AUTOMATIC1111/stable-diffusion-webui\n",
        "%cd stable-diffusion-webui\n",
        "\n",
        "# 2️⃣ Instalar PyTorch y Safetensors\n",
        "!pip install torch torchvision torchaudio --index-url https://download.pytorch.org/whl/cu118\n",
        "!pip install safetensors"
      ],
      "metadata": {
        "id": "3FwVX2ztMlwG",
        "cellView": "form"
      },
      "execution_count": null,
      "outputs": []
    },
    {
      "cell_type": "markdown",
      "source": [
        "# 📂 Paso 2: Subir Modelos a Google Drive o Descargar\n",
        "Puedes subir manualmente el checkpoint (.safetensors o .ckpt) a Google Drive o descargarlo desde un enlace.\n",
        "\n",
        "Si quieres descargarlo desde un enlace:"
      ],
      "metadata": {
        "id": "0A0HRbDvM1Hm"
      }
    },
    {
      "cell_type": "code",
      "source": [
        "import requests\n",
        "\n",
        "# Configuración\n",
        "API_KEY = \"Your_API_Key\"  # 🔹 Reemplaza con tu API Key de CivitAI\n",
        "MODEL_ID = \"1009529\"  # 🔹 Reemplaza con el ID del modelo que quieres descargar\n",
        "OUTPUT_PATH = \"/content/model1.safetensors\"  # 🔹 Ruta donde guardar el modelo\n",
        "\n",
        "# URL de descarga\n",
        "url = f\"https://civitai.com/api/download/models/1009529\"\n",
        "\n",
        "# Encabezados con la API Key\n",
        "headers = {\"Authorization\": f\"Bearer {API_KEY}\"}\n",
        "\n",
        "# Descargar el archivo\n",
        "response = requests.get(url, headers=headers, stream=True)\n",
        "\n",
        "if response.status_code == 200:\n",
        "    with open(OUTPUT_PATH, \"wb\") as f:\n",
        "        for chunk in response.iter_content(chunk_size=8192):\n",
        "            f.write(chunk)\n",
        "    print(f\"✅ Descarga completa: {OUTPUT_PATH}\")\n",
        "else:\n",
        "    print(f\"⚠️ Error {response.status_code}: {response.text}\")\n"
      ],
      "metadata": {
        "id": "9lD7PxidM9ra"
      },
      "execution_count": null,
      "outputs": []
    },
    {
      "cell_type": "markdown",
      "source": [
        "Esto solo funciona si los checkpoint tienen activadas las descargas sin tener tu cuenta abierta. (recomiendo la opción de arriba, es más segura)."
      ],
      "metadata": {
        "id": "iW25RwZB84fY"
      }
    },
    {
      "cell_type": "code",
      "source": [
        "!wget -O model1.safetensors \"URL_DEL_MODELO_1\"\n",
        "!wget -O model2.safetensors \"URL_DEL_MODELO_2\"\n",
        "!wget -O model3.safetensors \"URL_DEL_MODELO_3\""
      ],
      "metadata": {
        "id": "J7IvvH9672Ig"
      },
      "execution_count": null,
      "outputs": []
    },
    {
      "cell_type": "markdown",
      "source": [
        "Si ya lo tienes en Google Drive, móntalo con:"
      ],
      "metadata": {
        "id": "Ovd6ILfDNA59"
      }
    },
    {
      "cell_type": "code",
      "source": [
        "from google.colab import drive\n",
        "drive.mount('/content/drive')"
      ],
      "metadata": {
        "id": "tAs25KYtNC4y"
      },
      "execution_count": null,
      "outputs": []
    },
    {
      "cell_type": "markdown",
      "source": [
        "Y luego mueve el archivo a la carpeta de trabajo:"
      ],
      "metadata": {
        "id": "Zkgth8yMNFnY"
      }
    },
    {
      "cell_type": "code",
      "source": [
        "!cp \"/content/drive/My Drive/model.safetensors\" \"/content/model.safetensors\""
      ],
      "metadata": {
        "id": "eWpQMPBGNKvp"
      },
      "execution_count": null,
      "outputs": []
    },
    {
      "cell_type": "markdown",
      "source": [
        "# 🔄 Paso 3: Fusionar Modelos con PyTorch"
      ],
      "metadata": {
        "id": "s_vBqBYDZcIn"
      }
    },
    {
      "cell_type": "markdown",
      "source": [
        "**🔄 Fusionar Dos Modelos con PyTorch**"
      ],
      "metadata": {
        "id": "XCUkQcAnZ5WP"
      }
    },
    {
      "cell_type": "code",
      "source": [
        "import torch\n",
        "from safetensors.torch import load_file, save_file\n",
        "\n",
        "# 📌 Rutas de los modelos (ajusta según sea necesario)\n",
        "modelo_1 = \"/content/model1.safetensors\"\n",
        "modelo_2 = \"/content/model2.safetensors\"\n",
        "modelo_salida = \"/content/modelo_fusionado.safetensors\"\n",
        "\n",
        "# 🔄 Proporciones de fusión (deben sumar 1.0)\n",
        "peso_1 = 0.5  # 50% del primer modelo\n",
        "peso_2 = 0.5  # 50% del segundo modelo\n",
        "\n",
        "# 📥 Cargar modelos (usando `safetensors`)\n",
        "try:\n",
        "    model1 = load_file(modelo_1)\n",
        "    model2 = load_file(modelo_2)\n",
        "    print(\"✅ Modelos cargados correctamente\")\n",
        "except Exception as e:\n",
        "    print(f\"❌ Error al cargar los modelos: {e}\")\n",
        "    raise\n",
        "\n",
        "# 🔍 Verificar que las claves sean iguales en ambos modelos\n",
        "keys1, keys2 = set(model1.keys()), set(model2.keys())\n",
        "\n",
        "if keys1 != keys2:\n",
        "    print(\"❌ Error: Los modelos tienen diferentes estructuras de pesos.\")\n",
        "    raise ValueError(\"Las claves de los modelos no coinciden.\")\n",
        "\n",
        "# 🔀 Fusionar los modelos con las proporciones definidas\n",
        "merged_model = {k: peso_1 * model1[k] + peso_2 * model2[k] for k in model1.keys()}\n",
        "\n",
        "# 💾 Guardar el modelo fusionado\n",
        "try:\n",
        "    save_file(merged_model, modelo_salida)\n",
        "    print(f\"✅ Modelo fusionado guardado en {modelo_salida}\")\n",
        "except Exception as e:\n",
        "    print(f\"❌ Error al guardar el modelo fusionado: {e}\")\n",
        "    raise\n"
      ],
      "metadata": {
        "id": "Okgu5gEgZjFb"
      },
      "execution_count": null,
      "outputs": []
    },
    {
      "cell_type": "markdown",
      "source": [
        "Si necesitas cambiar las proporciones (ejemplo: 70% y 30%), simplemente modifica peso_1 y peso_2 asegurando que sumen 1.0. 🚀🔥"
      ],
      "metadata": {
        "id": "Hjig1e2Fadpw"
      }
    },
    {
      "cell_type": "markdown",
      "source": [
        "**🔄 Fusionar Tres Modelos con PyTorch**\n"
      ],
      "metadata": {
        "id": "K2bvhS5QNPYs"
      }
    },
    {
      "cell_type": "code",
      "source": [
        "import torch\n",
        "from safetensors.torch import load_file, save_file\n",
        "\n",
        "# 📌 Rutas de los modelos (ajusta según sea necesario)\n",
        "modelo_1 = \"/content/model1.safetensors\"\n",
        "modelo_2 = \"/content/model2.safetensors\"\n",
        "modelo_3 = \"/content/model3.safetensors\"\n",
        "modelo_salida = \"/content/modelo_fusionado.safetensors\"\n",
        "\n",
        "# 🔄 Proporciones de fusión (deben sumar 1.0)\n",
        "pesos = [0.4, 0.4, 0.2]\n",
        "\n",
        "# 📥 Cargar modelos (usando `safetensors`)\n",
        "try:\n",
        "    model1 = load_file(modelo_1)\n",
        "    model2 = load_file(modelo_2)\n",
        "    model3 = load_file(modelo_3)\n",
        "    print(\"✅ Modelos cargados correctamente\")\n",
        "except Exception as e:\n",
        "    print(f\"❌ Error al cargar los modelos: {e}\")\n",
        "    raise\n",
        "\n",
        "# 🔍 Verificar que las claves sean iguales en los 3 modelos\n",
        "keys1, keys2, keys3 = set(model1.keys()), set(model2.keys()), set(model3.keys())\n",
        "\n",
        "if not (keys1 == keys2 == keys3):\n",
        "    print(\"❌ Error: Los modelos tienen diferentes estructuras de pesos.\")\n",
        "    raise ValueError(\"Las claves de los modelos no coinciden.\")\n",
        "\n",
        "# 🔀 Fusionar los modelos con las proporciones definidas\n",
        "merged_model = {\n",
        "    k: pesos[0] * model1[k] + pesos[1] * model2[k] + pesos[2] * model3[k]\n",
        "    for k in model1.keys()\n",
        "}\n",
        "\n",
        "# 💾 Guardar el modelo fusionado\n",
        "try:\n",
        "    save_file(merged_model, modelo_salida)\n",
        "    print(f\"✅ Modelo fusionado guardado en {modelo_salida}\")\n",
        "except Exception as e:\n",
        "    print(f\"❌ Error al guardar el modelo fusionado: {e}\")\n",
        "    raise"
      ],
      "metadata": {
        "id": "N5i9_ZwQORGg"
      },
      "execution_count": null,
      "outputs": []
    },
    {
      "cell_type": "markdown",
      "source": [
        "# 🖥 Paso 4: Usar el Modelo en AUTOMATIC1111\n",
        "Para probar el modelo fusionado en Stable Diffusion WebUI:"
      ],
      "metadata": {
        "id": "v6pUde88-TX5"
      }
    },
    {
      "cell_type": "code",
      "source": [
        "# Mueve el modelo fusionado a la carpeta de modelos de SD WebUI\n",
        "!mv /content/modelo_fusionado.safetensors /content/stable-diffusion-webui/models/Stable-diffusion/"
      ],
      "metadata": {
        "id": "h17PRNye-QbD"
      },
      "execution_count": null,
      "outputs": []
    },
    {
      "cell_type": "code",
      "source": [
        "!python launch.py --share"
      ],
      "metadata": {
        "id": "dqE5CtBx-Ymt"
      },
      "execution_count": null,
      "outputs": []
    },
    {
      "cell_type": "markdown",
      "source": [
        "\n",
        "# ✅ ¿Cómo Ajustar la Fusión?\n",
        "Puedes modificar los valores de alpha1, alpha2 y alpha3 para cambiar la influencia de cada modelo.\n",
        "\n",
        "Suma total debe ser 1.0, por ejemplo:\n",
        "\n",
        "alpha1 = 0.5, alpha2 = 0.3, alpha3 = 0.2 → 50%, 30%, 20%\n",
        "\n",
        "alpha1 = 0.6, alpha2 = 0.2, alpha3 = 0.2 → 60%, 20%, 20%\n",
        "\n",
        "Puedes agregar más modelos repitiendo el mismo patrón en el código."
      ],
      "metadata": {
        "id": "oEy2xNQA-bn1"
      }
    }
  ]
}