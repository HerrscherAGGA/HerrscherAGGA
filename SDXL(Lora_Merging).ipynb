{
  "cells": [
    {
      "cell_type": "markdown",
      "metadata": {
        "id": "view-in-github",
        "colab_type": "text"
      },
      "source": [
        "<a href=\"https://colab.research.google.com/github/HerrscherAGGA/HerrscherAGGA/blob/Test_ON_GOOGLE_COLAB!/SDXL(Lora_Merging).ipynb\" target=\"_parent\"><img src=\"https://colab.research.google.com/assets/colab-badge.svg\" alt=\"Open In Colab\"/></a>"
      ]
    },
    {
      "cell_type": "markdown",
      "source": [
        "# Clone the sd-scripts repository"
      ],
      "metadata": {
        "id": "bXCJwtiDjUPu"
      }
    },
    {
      "cell_type": "code",
      "source": [
        "!git clone https://github.com/kohya-ss/sd-scripts.git"
      ],
      "metadata": {
        "id": "ZgMB11R7bnEE"
      },
      "execution_count": null,
      "outputs": []
    },
    {
      "cell_type": "markdown",
      "source": [
        "# Install PyTorch"
      ],
      "metadata": {
        "id": "Ifl7KGTtjay1"
      }
    },
    {
      "cell_type": "code",
      "source": [
        "!pip install torch torchvision"
      ],
      "metadata": {
        "id": "bJR4PNdAd81A"
      },
      "execution_count": null,
      "outputs": []
    },
    {
      "cell_type": "markdown",
      "source": [
        "# Verification"
      ],
      "metadata": {
        "id": "jcOKM4b6jo8G"
      }
    },
    {
      "cell_type": "code",
      "source": [
        "import torch\n",
        "print(torch.__version__)\n",
        "print(torch.cuda.is_available())  # Verifica si CUDA está disponible"
      ],
      "metadata": {
        "id": "8RprdoSgedBf"
      },
      "execution_count": null,
      "outputs": []
    },
    {
      "cell_type": "markdown",
      "source": [
        "# Install requirements"
      ],
      "metadata": {
        "id": "_y0tF08_jvMx"
      }
    },
    {
      "cell_type": "code",
      "source": [
        "!cd /content/sd-scripts && pip install -r requirements.txt"
      ],
      "metadata": {
        "id": "FJ2TzfdueEJi"
      },
      "execution_count": null,
      "outputs": []
    },
    {
      "cell_type": "markdown",
      "source": [
        "# Install Numpy."
      ],
      "metadata": {
        "id": "VTM4Bq8gjz3-"
      }
    },
    {
      "cell_type": "code",
      "source": [
        "pip install --upgrade \"numpy<2\""
      ],
      "metadata": {
        "id": "tM504pxxfhIc"
      },
      "execution_count": null,
      "outputs": []
    },
    {
      "cell_type": "markdown",
      "source": [
        "# Update to fix some issues."
      ],
      "metadata": {
        "id": "KQ0GOuCvj2H2"
      }
    },
    {
      "cell_type": "code",
      "source": [
        "!pip install --upgrade tensorflow\n",
        "!pip install --upgrade jax\n",
        "!pip install --upgrade albumentations\n"
      ],
      "metadata": {
        "id": "DtP4rcyJhDS0"
      },
      "execution_count": null,
      "outputs": []
    },
    {
      "cell_type": "markdown",
      "source": [
        "# Download sample LoRA models"
      ],
      "metadata": {
        "id": "jrb-GvYCkOWC"
      }
    },
    {
      "cell_type": "code",
      "source": [
        "!wget Your LORA URL -O Lora1.safetensors\n",
        "!wget Your LORA URL -O Lora2.safetensors\n",
        "!wget Your LORA URL -O Lora3.safetensors"
      ],
      "metadata": {
        "id": "XZdaupNqeH5D"
      },
      "execution_count": null,
      "outputs": []
    },
    {
      "cell_type": "markdown",
      "source": [
        "# Merge two LoRA models together"
      ],
      "metadata": {
        "id": "MoZz2dnLjLYR"
      }
    },
    {
      "cell_type": "code",
      "source": [
        "!python sd-scripts/networks/sdxl_merge_lora.py \\\n",
        "--save_precision fp16 \\\n",
        "--save_to /content/Lora1-Lora2-fp16.safetensors \\\n",
        "--models \\\n",
        "    /content/Lora1.safetensors \\\n",
        "    /content/Lora2.safetensors \\\n",
        "--ratios 0.5 0.5"
      ],
      "metadata": {
        "id": "JxSv68YfeLHK"
      },
      "execution_count": null,
      "outputs": []
    },
    {
      "cell_type": "markdown",
      "source": [
        "# Optional: Set up Google Colab"
      ],
      "metadata": {
        "id": "nigVlnjwmvKf"
      }
    },
    {
      "cell_type": "code",
      "source": [
        "from google.colab import drive\n",
        "drive.mount('/content/drive')"
      ],
      "metadata": {
        "id": "kXdlyjMai8P8"
      },
      "execution_count": null,
      "outputs": []
    },
    {
      "cell_type": "markdown",
      "source": [
        "# Optional: Merge three LoRA models together"
      ],
      "metadata": {
        "id": "MEPd6i0jkaOP"
      }
    },
    {
      "cell_type": "code",
      "source": [
        "!python sd-scripts/networks/sdxl_merge_lora.py \\\n",
        "--save_precision fp16 \\\n",
        "--save_to /content/Lora1-Lora2-Lora3-fp16.safetensors \\\n",
        "--models \\\n",
        "    /content/Lora1.safetensors \\\n",
        "    /content/Lora2.safetensors \\\n",
        "    /content/Lora3.safetensors \\\n",
        "--ratios 0.3 0.3 0.3"
      ],
      "metadata": {
        "id": "h3xpl2B3kfzr"
      },
      "execution_count": null,
      "outputs": []
    },
    {
      "cell_type": "markdown",
      "source": [
        "# Try upload your LoRA models and merge them\n",
        "You can drag and drop your LoRA models from your computer to the hard drive on google colab\n",
        "\n",
        "modify the scripts to use your uploaded LoRA models\n",
        "\n",
        "Enjoy!"
      ],
      "metadata": {
        "id": "C6-zusTsk4wG"
      }
    },
    {
      "cell_type": "code",
      "source": [
        "# merge your LoRA models here\n",
        "# remove the comment # below\n",
        "# replace my-own-lora to your output LoRA model name\n",
        "# replace the uploaded-lora-01, uploaded-lora-02 to your uploaded LoRA model names\n",
        "\n",
        "# !python sd-scripts/networks/merge_lora.py \\\n",
        "# --save_precision fp16 \\\n",
        "# --save_to /content/my-own-lora.safetensors \\\n",
        "# --models \\\n",
        "#     /content/uploaded-lora-01.safetensors \\\n",
        "#     /content/uploaded-lora-02.safetensors \\\n",
        "# --ratios 0.5 0.5"
      ],
      "metadata": {
        "id": "1-GH6tZTk-s9"
      },
      "execution_count": null,
      "outputs": []
    }
  ],
  "metadata": {
    "accelerator": "GPU",
    "colab": {
      "provenance": [],
      "collapsed_sections": [
        "nigVlnjwmvKf"
      ],
      "include_colab_link": true
    },
    "gpuClass": "standard",
    "kernelspec": {
      "display_name": "Python 3",
      "name": "python3"
    },
    "language_info": {
      "name": "python"
    }
  },
  "nbformat": 4,
  "nbformat_minor": 0
}