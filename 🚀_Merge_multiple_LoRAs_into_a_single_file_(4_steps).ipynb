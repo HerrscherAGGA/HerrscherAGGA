{
  "nbformat": 4,
  "nbformat_minor": 0,
  "metadata": {
    "colab": {
      "provenance": [],
      "include_colab_link": true
    },
    "kernelspec": {
      "name": "python3",
      "display_name": "Python 3"
    },
    "language_info": {
      "name": "python"
    }
  },
  "cells": [
    {
      "cell_type": "markdown",
      "metadata": {
        "id": "view-in-github",
        "colab_type": "text"
      },
      "source": [
        "<a href=\"https://colab.research.google.com/github/HerrscherAGGA/HerrscherAGGA/blob/Test_ON_GOOGLE_COLAB!/%F0%9F%9A%80_Merge_multiple_LoRAs_into_a_single_file_(4_steps).ipynb\" target=\"_parent\"><img src=\"https://colab.research.google.com/assets/colab-badge.svg\" alt=\"Open In Colab\"/></a>"
      ]
    },
    {
      "cell_type": "markdown",
      "source": [
        "# 1️⃣ Clone the sd-scripts repository"
      ],
      "metadata": {
        "id": "JvezCbjjvFCr"
      }
    },
    {
      "cell_type": "code",
      "source": [
        "!git clone https://github.com/kohya-ss/sd-scripts.git"
      ],
      "metadata": {
        "id": "FPJAc5h2vI_p"
      },
      "execution_count": null,
      "outputs": []
    },
    {
      "cell_type": "markdown",
      "source": [
        "# 2️⃣ Install necessary dependencies"
      ],
      "metadata": {
        "id": "fnN_UlHOvMM-"
      }
    },
    {
      "cell_type": "code",
      "source": [
        "!pip install torch torchvision\n",
        "!cd /content/sd-scripts && pip install -r requirements.txt\n",
        "!pip install --upgrade \"numpy<2\" tensorflow jax albumentations"
      ],
      "metadata": {
        "id": "nINmoaZjvPvj"
      },
      "execution_count": null,
      "outputs": []
    },
    {
      "cell_type": "markdown",
      "source": [
        "# 3️⃣ Download LoRAs from CivitAI\n",
        "PS: If CivitAI blocks the download, please download manually and upload it to Google Drive."
      ],
      "metadata": {
        "id": "UEwGJtr7vX29"
      }
    },
    {
      "cell_type": "code",
      "source": [
        "!wget \"URL_DEL_LORA1\" -O \"/content/LORA1.safetensors\"\n",
        "!wget \"URL_DEL_LORA2\" -O \"/content/LORA2.safetensors\""
      ],
      "metadata": {
        "id": "SY0mK7bavZS8"
      },
      "execution_count": null,
      "outputs": []
    },
    {
      "cell_type": "markdown",
      "source": [
        "# 4️⃣ Merge multiple LoRAs into a single file"
      ],
      "metadata": {
        "id": "ixP7muQ9v3tB"
      }
    },
    {
      "cell_type": "code",
      "source": [
        "!python /content/sd-scripts/networks/sdxl_merge_lora.py \\\n",
        "    --save_precision fp16 \\\n",
        "    --save_to \"/content/Lora_merge.safetensors\" \\\n",
        "    --models \\\n",
        "        \"/content/LORA1.safetensors\" \\\n",
        "        \"/content/LORA2.safetensors\" \\\n",
        "    --ratios 0.5 0.5"
      ],
      "metadata": {
        "id": "p3a5FIMVv8z2"
      },
      "execution_count": null,
      "outputs": []
    },
    {
      "cell_type": "markdown",
      "source": [
        "📌 Change the values ​​0.5 0.5 depending on the weight you want to give to each LoRA."
      ],
      "metadata": {
        "id": "L-93qjwkwDZU"
      }
    },
    {
      "cell_type": "markdown",
      "source": [
        "# Merge three LoRA models together (Optional)"
      ],
      "metadata": {
        "id": "4JtDU9_F0ZIG"
      }
    },
    {
      "cell_type": "code",
      "source": [
        "!python sd-scripts/networks/sdxl_merge_lora.py \\\n",
        "--save_precision fp16 \\\n",
        "--save_to /content/Lora1-Lora2-Lora3-fp16.safetensors \\\n",
        "--models \\\n",
        "    /content/Lora1.safetensors \\\n",
        "    /content/Lora2.safetensors \\\n",
        "    /content/Lora3.safetensors \\\n",
        "--ratios 0.3 0.3 0.3"
      ],
      "metadata": {
        "id": "c0Gqm3x50YKH"
      },
      "execution_count": null,
      "outputs": []
    }
  ]
}